{
  "metadata": {
    "language_info": {
      "codemirror_mode": {
        "name": "python",
        "version": 3
      },
      "file_extension": ".py",
      "mimetype": "text/x-python",
      "name": "python",
      "nbconvert_exporter": "python",
      "pygments_lexer": "ipython3",
      "version": "3.8"
    },
    "kernelspec": {
      "name": "python",
      "display_name": "Pyolite",
      "language": "python"
    }
  },
  "nbformat_minor": 4,
  "nbformat": 4,
  "cells": [
    {
      "cell_type": "markdown",
      "source": "#  My Jupyter Notebook on IBM Watson Studio",
      "metadata": {
        "tags": []
      }
    },
    {
      "cell_type": "markdown",
      "source": " __Atharva Karpe__",
      "metadata": {}
    },
    {
      "cell_type": "markdown",
      "source": "I am interested in data science because I want to become a data scientist under the finance industry.I want to help folks to make profitable investments.",
      "metadata": {}
    },
    {
      "cell_type": "markdown",
      "source": "The Following Code will Print a text",
      "metadata": {}
    },
    {
      "cell_type": "markdown",
      "source": "print(\" I am loving the IBM Data Science Certification Course\")",
      "metadata": {}
    },
    {
      "cell_type": "markdown",
      "source": "### My code is supposed to run the fibonacci sequence",
      "metadata": {}
    },
    {
      "cell_type": "code",
      "source": "i = 0\nj = 1\nn = int \nwhile(j<20):\n    print(j)\n    n = i\n    i = j\n    j = j + n",
      "metadata": {
        "trusted": true
      },
      "execution_count": 8,
      "outputs": [
        {
          "name": "stdout",
          "text": "1\n1\n2\n3\n5\n8\n13\n",
          "output_type": "stream"
        }
      ]
    },
    {
      "cell_type": "code",
      "source": "",
      "metadata": {},
      "execution_count": null,
      "outputs": []
    },
    {
      "cell_type": "code",
      "source": "",
      "metadata": {},
      "execution_count": null,
      "outputs": []
    }
  ]
}